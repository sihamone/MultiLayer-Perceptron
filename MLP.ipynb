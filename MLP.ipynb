{
  "cells": [
    {
      "cell_type": "markdown",
      "metadata": {
        "id": "view-in-github",
        "colab_type": "text"
      },
      "source": [
        "<a href=\"https://colab.research.google.com/github/sihamone/sihamone/blob/main/MLP.ipynb\" target=\"_parent\"><img src=\"https://colab.research.google.com/assets/colab-badge.svg\" alt=\"Open In Colab\"/></a>"
      ]
    },
    {
      "cell_type": "code",
      "execution_count": null,
      "metadata": {
        "id": "glhoh4KybWLh"
      },
      "outputs": [],
      "source": [
        "# http://www.emergentmind.com/neural-network\n",
        "# https://hmkcode.com/ai/backpropagation-step-by-step/\n",
        "# https://mattmazur.com/2015/03/17/a-step-by-step-backpropagation-example/"
      ]
    },
    {
      "cell_type": "code",
      "execution_count": null,
      "metadata": {
        "id": "e3ohV7teCRnM"
      },
      "outputs": [],
      "source": [
        "# Revisa la documentacion de python para poder instalar tensorflow.\n",
        "# Quizas alguno de las siguientes lineas sean de utilidad, o usa la suite anaconda.\n",
        "# !conda install tensorflow\n",
        "# !pip install tensorflow"
      ]
    },
    {
      "cell_type": "code",
      "execution_count": null,
      "metadata": {
        "id": "DhmUvXATbWLr"
      },
      "outputs": [],
      "source": [
        "import numpy as np\n",
        "import matplotlib.pyplot as plt"
      ]
    },
    {
      "cell_type": "code",
      "execution_count": null,
      "metadata": {
        "colab": {
          "base_uri": "https://localhost:8080/",
          "height": 347
        },
        "id": "Pr8pwJ5ebWL0",
        "outputId": "2be7586d-5553-4491-da59-893568f28ae3"
      },
      "outputs": [
        {
          "output_type": "stream",
          "name": "stdout",
          "text": [
            "X data: (150, 2)\n",
            "Y data: (150, 2)\n",
            "L data: (150,)\n"
          ]
        },
        {
          "output_type": "display_data",
          "data": {
            "image/png": "[encoded data removed]",
            "text/plain": [
              "<Figure size 864x288 with 2 Axes>"
            ]
          },
          "metadata": {
            "needs_background": "light"
          }
        }
      ],
      "source": [
        "# Load and split data\n",
        "from sklearn.datasets import load_iris\n",
        "iris = load_iris()\n",
        "\n",
        "# We will use length and width of petals as X to predict length and width of sepals as Y\n",
        "# We also keep the labels in a vector L, only for visualzation purposes\n",
        "X = iris.data[:, :2] # tome las primeras dos variables\n",
        "Y = iris.data[:, 2:] #tome las siguientes 2 variables\n",
        "#se trata de pronosticar las características del sepalo en función de las del petalo.\n",
        "L = iris.target #datos originales\n",
        "\n",
        "print(\"X data:\", X.shape)\n",
        "print(\"Y data:\", Y.shape)\n",
        "print(\"L data:\", L.shape)\n",
        "\n",
        "# Plot it\n",
        "plt.figure(figsize=(12, 4))\n",
        "plt.subplot(1, 2, 1)\n",
        "plt.scatter(X[L==0, 0], X[L==0, 1], c='b', label='setosa')\n",
        "plt.scatter(X[L==1, 0], X[L==1, 1], c='r', label='versicolor')\n",
        "plt.scatter(X[L==2, 0], X[L==2, 1], c='g', label='virginica')\n",
        "plt.legend()\n",
        "plt.grid(True)\n",
        "plt.xlabel('petal length')\n",
        "plt.ylabel('petal width')\n",
        "plt.title('Input variables X')\n",
        "plt.subplot(1, 2, 2)\n",
        "plt.scatter(Y[L==0, 0], Y[L==0, 1], c='b', label='setosa')\n",
        "plt.scatter(Y[L==1, 0], Y[L==1, 1], c='r', label='versicolor')\n",
        "plt.scatter(Y[L==2, 0], Y[L==2, 1], c='g', label='virginica')\n",
        "plt.legend()\n",
        "plt.grid(True)\n",
        "plt.xlabel('sepal length')\n",
        "plt.ylabel('sepal width')\n",
        "plt.title('Output variables Y')\n",
        "plt.show()\n",
        "\n",
        "#regresión múltiple\n",
        "# pronosticar concoiendo los valores del petalo queremos aproximar los valores del sepalo\n",
        "# Se ve el gráfico de los datos que vamos a meter (el width y length del pétalo)\n",
        "# y los datos de salida (que sería el pronóstico del sépalo)"
      ]
    },
    {
      "cell_type": "code",
      "execution_count": null,
      "metadata": {
        "colab": {
          "base_uri": "https://localhost:8080/"
        },
        "id": "16xfdF2xbWL8",
        "outputId": "e150bb73-4170-4c68-8e68-786d2af6237a"
      },
      "outputs": [
        {
          "output_type": "stream",
          "name": "stdout",
          "text": [
            "Training + validation inputs X: (127, 2)\n",
            "Test inputs X: (23, 2)\n",
            "Training + validation outputs Y: (127, 2)\n",
            "Test outputs Y: (23, 2)\n",
            "Training + validation labels l: (127,)\n",
            "Test labels l: (23,)\n"
          ]
        }
      ],
      "source": [
        "# Split it into training and test sets\n",
        "from sklearn.model_selection import train_test_split\n",
        "x_train, x_test, y_train, y_test, l_train, l_test = train_test_split(X, Y, L, test_size=0.15)\n",
        "#permite que le pasemos tres argumentos... los datos de entrada y las divido entre 15% y 85%\n",
        "#15% de los 200 datos son para el Test y 85% son para Training y validación\n",
        "print(\"Training + validation inputs X:\", x_train.shape)\n",
        "print(\"Test inputs X:\", x_test.shape)\n",
        "print(\"Training + validation outputs Y:\", y_train.shape)\n",
        "print(\"Test outputs Y:\", y_test.shape)\n",
        "print(\"Training + validation labels l:\", l_train.shape)\n",
        "print(\"Test labels l:\", l_test.shape)"
      ]
    },
    {
      "cell_type": "code",
      "execution_count": null,
      "metadata": {
        "id": "RXiiHm5ZZ-5g"
      },
      "outputs": [],
      "source": [
        "# Documentación de tensorflow y keras\n",
        "# https://www.tensorflow.org/\n",
        "# https://keras.io/\n",
        "# Tensorflow está usada para deep learning que tiene estructura tipo capa, optimizadores\n",
        "# conoce funciones de activación y respectivas derivadas para no calcularlas.\n",
        "# a partir de la 2nda sesión de tensorflow ya incluía a keras\n",
        "# tensorflow keras tiene unos modulos : en este caso models y layers (layer tipo input\n",
        "# (que son los cuadritos de la x1 y x2), luego tenemos la casa dense (cajas de perceptrones))"
      ]
    },
    {
      "cell_type": "code",
      "execution_count": null,
      "metadata": {
        "id": "jwGu_37rbWMC"
      },
      "outputs": [],
      "source": [
        "# import tensorflow an the classes Model, Input (place-holder layer), and Dense (fully connected layer)\n",
        "import tensorflow as tf\n",
        "from tensorflow.keras.models import Model\n",
        "from tensorflow.keras.layers import Input, Dense"
      ]
    },
    {
      "cell_type": "code",
      "execution_count": null,
      "metadata": {
        "colab": {
          "base_uri": "https://localhost:8080/"
        },
        "id": "OfZ2xl7XbWMI",
        "outputId": "aacd0d4d-24d7-4d91-c804-9db7283ab994"
      },
      "outputs": [
        {
          "output_type": "stream",
          "name": "stdout",
          "text": [
            "Model: \"model\"\n",
            "_________________________________________________________________\n",
            " Layer (type)                Output Shape              Param #   \n",
            "=================================================================\n",
            " input (InputLayer)          [(None, 2)]               0         \n",
            "                                                                 \n",
            " output (Dense)              (None, 2)                 6         \n",
            "                                                                 \n",
            "=================================================================\n",
            "Total params: 6\n",
            "Trainable params: 6\n",
            "Non-trainable params: 0\n",
            "_________________________________________________________________\n"
          ]
        }
      ],
      "source": [
        "# Create an MLP of two inputs x=[x1, x2], and two outputs y=[y1, y2]\n",
        "# MLP: multiple layer perceptron: es el dibujito con los perceptrons, inputs y outputs\n",
        "i = Input(shape=(2,), name='input') #una capa, de longitud 2\n",
        "o = Dense(units=2, activation=None, name='output')(i) #creo una capa tipo dense, tiene\n",
        "#dos placeholders de entrada y dos perceptrones, None es que solo hace combinaciones lineales\n",
        "#si lo cambias por \"sigmoid\" pues ahora sería no lineal\n",
        "#las dos neuronas serán lineales\n",
        "\n",
        "MLP = Model(inputs=i, outputs=o) #voy a construir un modelo con entras input i y salidas output o\n",
        "MLP.summary() # Me imprime el resumen\n",
        "#tu salida es de longitud dos\n",
        "#(None,2) solo sabe que debe contener vectors de longitud 2\n",
        "#tmb nos muestra el numero de parametros\n",
        "#son los pesos y los bias de cada entrada (omega1 omega2 bias1 y omega3, omega4 bias2) solo hay dos capas\n"
      ]
    },
    {
      "cell_type": "code",
      "execution_count": null,
      "metadata": {
        "colab": {
          "base_uri": "https://localhost:8080/"
        },
        "id": "YiR10FbJbWMN",
        "outputId": "c776b225-6487-4299-9e4d-53708d17981f"
      },
      "outputs": [
        {
          "output_type": "stream",
          "name": "stdout",
          "text": [
            "Initial weights: (2, 2)\n",
            "[[ 0.14523506  0.24323845]\n",
            " [-1.1333405   0.2525636 ]]\n",
            "Initial biases (2,)\n",
            "[0. 0.]\n"
          ]
        }
      ],
      "source": [
        "# Obtain weights and biases of the hidden layer\n",
        "w1, b1 = MLP.layers[1].get_weights() #la capa 1 es la que tiene los pesos (dame los pesos) y los guardo en omega y biases\n",
        "print(\"Initial weights:\", w1.shape)\n",
        "print(w1)\n",
        "print(\"Initial biases\", b1.shape)\n",
        "print(b1)\n",
        "#los w1 los inicializa con una distriubci´n uniforme +-.5\n",
        "#y los b1 se inicializan en 0"
      ]
    },
    {
      "cell_type": "code",
      "execution_count": null,
      "metadata": {
        "colab": {
          "base_uri": "https://localhost:8080/",
          "height": 140
        },
        "id": "yf20TvnAbWMR",
        "outputId": "e932ddb8-b1db-435f-b1cf-d0b3c7cab48e"
      },
      "outputs": [
        {
          "output_type": "execute_result",
          "data": {
            "image/png": "[encoded data removed]",
            "text/plain": [
              "<IPython.core.display.Image object>"
            ]
          },
          "metadata": {},
          "execution_count": 10
        }
      ],
      "source": [
        "# Plot a diagram of the MLP model\n",
        "from tensorflow.keras.utils import plot_model\n",
        "plot_model(MLP, to_file='MLP.png', show_shapes=True, show_layer_names=True, rankdir='TB', expand_nested=True, dpi=64)"
      ]
    },
    {
      "cell_type": "code",
      "execution_count": null,
      "metadata": {
        "id": "CJ0ZRpsibWMY"
      },
      "outputs": [],
      "source": [
        "# Here we define the optimizer and loss function\n",
        "# Adam and mse in this initial example\n",
        "MLP.compile(optimizer='sgd', loss='mse')\n",
        "#compilarlo en tensorflow=> es asignarle hiperparámetros para optimizarlo para entrenarlo\n",
        "#vamos a utilizar stockastic gradient descente, y loss= mean square error (función de costo)"
      ]
    },
    {
      "cell_type": "code",
      "execution_count": null,
      "metadata": {
        "colab": {
          "base_uri": "https://localhost:8080/"
        },
        "id": "Hzez7n_xbWMc",
        "outputId": "43907226-62ca-4fcd-adf0-dcf04c2b3209"
      },
      "outputs": [
        {
          "output_type": "stream",
          "name": "stdout",
          "text": [
            "Epoch 1/100\n",
            "26/26 [==============================] - 1s 7ms/step - loss: 2.0599 - val_loss: 0.8912\n",
            "Epoch 2/100\n",
            "26/26 [==============================] - 0s 3ms/step - loss: 0.6882 - val_loss: 0.6211\n",
            "Epoch 3/100\n",
            "26/26 [==============================] - 0s 2ms/step - loss: 0.6402 - val_loss: 0.8560\n",
            "Epoch 4/100\n",
            "26/26 [==============================] - 0s 2ms/step - loss: 0.6172 - val_loss: 0.5489\n",
            "Epoch 5/100\n",
            "26/26 [==============================] - 0s 2ms/step - loss: 0.5635 - val_loss: 0.4749\n",
            "Epoch 6/100\n",
            "26/26 [==============================] - 0s 2ms/step - loss: 0.5240 - val_loss: 0.5332\n",
            "Epoch 7/100\n",
            "26/26 [==============================] - 0s 2ms/step - loss: 0.5091 - val_loss: 0.5286\n",
            "Epoch 8/100\n",
            "26/26 [==============================] - 0s 3ms/step - loss: 0.4600 - val_loss: 0.4648\n",
            "Epoch 9/100\n",
            "26/26 [==============================] - 0s 3ms/step - loss: 0.4518 - val_loss: 0.4436\n",
            "Epoch 10/100\n",
            "26/26 [==============================] - 0s 2ms/step - loss: 0.4236 - val_loss: 0.3947\n",
            "Epoch 11/100\n",
            "26/26 [==============================] - 0s 2ms/step - loss: 0.4300 - val_loss: 0.3741\n",
            "Epoch 12/100\n",
            "26/26 [==============================] - 0s 3ms/step - loss: 0.4160 - val_loss: 0.5448\n",
            "Epoch 13/100\n",
            "26/26 [==============================] - 0s 2ms/step - loss: 0.3853 - val_loss: 0.3573\n",
            "Epoch 14/100\n",
            "26/26 [==============================] - 0s 3ms/step - loss: 0.3838 - val_loss: 0.4408\n",
            "Epoch 15/100\n",
            "26/26 [==============================] - 0s 3ms/step - loss: 0.4014 - val_loss: 0.3606\n",
            "Epoch 16/100\n",
            "26/26 [==============================] - 0s 2ms/step - loss: 0.3850 - val_loss: 0.3907\n",
            "Epoch 17/100\n",
            "26/26 [==============================] - 0s 2ms/step - loss: 0.3597 - val_loss: 0.3278\n",
            "Epoch 18/100\n",
            "26/26 [==============================] - 0s 2ms/step - loss: 0.3554 - val_loss: 0.3237\n",
            "Epoch 19/100\n",
            "26/26 [==============================] - 0s 2ms/step - loss: 0.3765 - val_loss: 0.3737\n",
            "Epoch 20/100\n",
            "26/26 [==============================] - 0s 2ms/step - loss: 0.3564 - val_loss: 0.4765\n",
            "Epoch 21/100\n",
            "26/26 [==============================] - 0s 2ms/step - loss: 0.3679 - val_loss: 0.3135\n",
            "Epoch 22/100\n",
            "26/26 [==============================] - 0s 5ms/step - loss: 0.3577 - val_loss: 0.3455\n",
            "Epoch 23/100\n",
            "26/26 [==============================] - 0s 5ms/step - loss: 0.3431 - val_loss: 0.3068\n",
            "Epoch 24/100\n",
            "26/26 [==============================] - 0s 4ms/step - loss: 0.3511 - val_loss: 0.3202\n",
            "Epoch 25/100\n",
            "26/26 [==============================] - 0s 4ms/step - loss: 0.3375 - val_loss: 0.3314\n",
            "Epoch 26/100\n",
            "26/26 [==============================] - 0s 4ms/step - loss: 0.3409 - val_loss: 0.7253\n",
            "Epoch 27/100\n",
            "26/26 [==============================] - 0s 5ms/step - loss: 0.3923 - val_loss: 0.3278\n",
            "Epoch 28/100\n",
            "26/26 [==============================] - 0s 4ms/step - loss: 0.3689 - val_loss: 0.3076\n",
            "Epoch 29/100\n",
            "26/26 [==============================] - 0s 4ms/step - loss: 0.3192 - val_loss: 0.3106\n",
            "Epoch 30/100\n",
            "26/26 [==============================] - 0s 6ms/step - loss: 0.3495 - val_loss: 0.3105\n",
            "Epoch 31/100\n",
            "26/26 [==============================] - 0s 5ms/step - loss: 0.3248 - val_loss: 0.3929\n",
            "Epoch 32/100\n",
            "26/26 [==============================] - 0s 5ms/step - loss: 0.3596 - val_loss: 0.3420\n",
            "Epoch 33/100\n",
            "26/26 [==============================] - 0s 6ms/step - loss: 0.3580 - val_loss: 0.2982\n",
            "Epoch 34/100\n",
            "26/26 [==============================] - 0s 3ms/step - loss: 0.3517 - val_loss: 0.2991\n",
            "Epoch 35/100\n",
            "26/26 [==============================] - 0s 7ms/step - loss: 0.3504 - val_loss: 0.3274\n",
            "Epoch 36/100\n",
            "26/26 [==============================] - 0s 7ms/step - loss: 0.3449 - val_loss: 0.4135\n",
            "Epoch 37/100\n",
            "26/26 [==============================] - 0s 4ms/step - loss: 0.3328 - val_loss: 0.4010\n",
            "Epoch 38/100\n",
            "26/26 [==============================] - 0s 4ms/step - loss: 0.3417 - val_loss: 0.2958\n",
            "Epoch 39/100\n",
            "26/26 [==============================] - 0s 7ms/step - loss: 0.3683 - val_loss: 0.3968\n",
            "Epoch 40/100\n",
            "26/26 [==============================] - 0s 6ms/step - loss: 0.3636 - val_loss: 0.3012\n",
            "Epoch 41/100\n",
            "26/26 [==============================] - 0s 4ms/step - loss: 0.3422 - val_loss: 0.3078\n",
            "Epoch 42/100\n",
            "26/26 [==============================] - 0s 4ms/step - loss: 0.3303 - val_loss: 0.3795\n",
            "Epoch 43/100\n",
            "26/26 [==============================] - 0s 5ms/step - loss: 0.3307 - val_loss: 0.3166\n",
            "Epoch 44/100\n",
            "26/26 [==============================] - 0s 4ms/step - loss: 0.3470 - val_loss: 0.2973\n",
            "Epoch 45/100\n",
            "26/26 [==============================] - 0s 6ms/step - loss: 0.3306 - val_loss: 0.2966\n",
            "Epoch 46/100\n",
            "26/26 [==============================] - 0s 4ms/step - loss: 0.3588 - val_loss: 0.4581\n",
            "Epoch 47/100\n",
            "26/26 [==============================] - 0s 4ms/step - loss: 0.3373 - val_loss: 0.5004\n",
            "Epoch 48/100\n",
            "26/26 [==============================] - 0s 4ms/step - loss: 0.3642 - val_loss: 0.3104\n",
            "Epoch 49/100\n",
            "26/26 [==============================] - 0s 4ms/step - loss: 0.3338 - val_loss: 0.2994\n",
            "Epoch 50/100\n",
            "26/26 [==============================] - 0s 3ms/step - loss: 0.3417 - val_loss: 0.3032\n",
            "Epoch 51/100\n",
            "26/26 [==============================] - 0s 4ms/step - loss: 0.3367 - val_loss: 0.3130\n",
            "Epoch 52/100\n",
            "26/26 [==============================] - 0s 4ms/step - loss: 0.3355 - val_loss: 0.3022\n",
            "Epoch 53/100\n",
            "26/26 [==============================] - 0s 5ms/step - loss: 0.3455 - val_loss: 0.4564\n",
            "Epoch 54/100\n",
            "26/26 [==============================] - 0s 7ms/step - loss: 0.3245 - val_loss: 0.4072\n",
            "Epoch 55/100\n",
            "26/26 [==============================] - 0s 5ms/step - loss: 0.3434 - val_loss: 0.2966\n",
            "Epoch 56/100\n",
            "26/26 [==============================] - 0s 4ms/step - loss: 0.3446 - val_loss: 0.3431\n",
            "Epoch 57/100\n",
            "26/26 [==============================] - 0s 5ms/step - loss: 0.3437 - val_loss: 0.2912\n",
            "Epoch 58/100\n",
            "26/26 [==============================] - 0s 4ms/step - loss: 0.3310 - val_loss: 0.3477\n",
            "Epoch 59/100\n",
            "26/26 [==============================] - 0s 5ms/step - loss: 0.3362 - val_loss: 0.2955\n",
            "Epoch 60/100\n",
            "26/26 [==============================] - 0s 9ms/step - loss: 0.3212 - val_loss: 0.3059\n",
            "Epoch 61/100\n",
            "26/26 [==============================] - 0s 6ms/step - loss: 0.3374 - val_loss: 0.2970\n",
            "Epoch 62/100\n",
            "26/26 [==============================] - 0s 4ms/step - loss: 0.3296 - val_loss: 0.4225\n",
            "Epoch 63/100\n",
            "26/26 [==============================] - 0s 5ms/step - loss: 0.3435 - val_loss: 0.3140\n",
            "Epoch 64/100\n",
            "26/26 [==============================] - 0s 5ms/step - loss: 0.3329 - val_loss: 0.3137\n",
            "Epoch 65/100\n",
            "26/26 [==============================] - 0s 5ms/step - loss: 0.3483 - val_loss: 0.3369\n",
            "Epoch 66/100\n",
            "26/26 [==============================] - 0s 5ms/step - loss: 0.3450 - val_loss: 0.4507\n",
            "Epoch 67/100\n",
            "26/26 [==============================] - 0s 3ms/step - loss: 0.3604 - val_loss: 0.4050\n",
            "Epoch 68/100\n",
            "26/26 [==============================] - 0s 5ms/step - loss: 0.3371 - val_loss: 0.2915\n",
            "Epoch 69/100\n",
            "26/26 [==============================] - 0s 4ms/step - loss: 0.3277 - val_loss: 0.3037\n",
            "Epoch 70/100\n",
            "26/26 [==============================] - 0s 4ms/step - loss: 0.3118 - val_loss: 0.2909\n",
            "Epoch 71/100\n",
            "26/26 [==============================] - 0s 4ms/step - loss: 0.3289 - val_loss: 0.2928\n",
            "Epoch 72/100\n",
            "26/26 [==============================] - 0s 5ms/step - loss: 0.3365 - val_loss: 0.2994\n",
            "Epoch 73/100\n",
            "26/26 [==============================] - 0s 5ms/step - loss: 0.3231 - val_loss: 0.3933\n",
            "Epoch 74/100\n",
            "26/26 [==============================] - 0s 5ms/step - loss: 0.3293 - val_loss: 0.3761\n",
            "Epoch 75/100\n",
            "26/26 [==============================] - 0s 5ms/step - loss: 0.3357 - val_loss: 0.3360\n",
            "Epoch 76/100\n",
            "26/26 [==============================] - 0s 4ms/step - loss: 0.3434 - val_loss: 0.3287\n",
            "Epoch 77/100\n",
            "26/26 [==============================] - 0s 5ms/step - loss: 0.3322 - val_loss: 0.3511\n",
            "Epoch 78/100\n",
            "26/26 [==============================] - 0s 4ms/step - loss: 0.3467 - val_loss: 0.4053\n",
            "Epoch 79/100\n",
            "26/26 [==============================] - 0s 3ms/step - loss: 0.3237 - val_loss: 0.3399\n",
            "Epoch 80/100\n",
            "26/26 [==============================] - 0s 4ms/step - loss: 0.3145 - val_loss: 0.3356\n",
            "Epoch 81/100\n",
            "26/26 [==============================] - 0s 5ms/step - loss: 0.3390 - val_loss: 0.2961\n",
            "Epoch 82/100\n",
            "26/26 [==============================] - 0s 6ms/step - loss: 0.3397 - val_loss: 0.2899\n",
            "Epoch 83/100\n",
            "26/26 [==============================] - 0s 7ms/step - loss: 0.3364 - val_loss: 0.2886\n",
            "Epoch 84/100\n",
            "26/26 [==============================] - 0s 5ms/step - loss: 0.3539 - val_loss: 0.3925\n",
            "Epoch 85/100\n",
            "26/26 [==============================] - 0s 5ms/step - loss: 0.3394 - val_loss: 0.3340\n",
            "Epoch 86/100\n",
            "26/26 [==============================] - 0s 4ms/step - loss: 0.3263 - val_loss: 0.3878\n",
            "Epoch 87/100\n",
            "26/26 [==============================] - 0s 4ms/step - loss: 0.3454 - val_loss: 0.3217\n",
            "Epoch 88/100\n",
            "26/26 [==============================] - 0s 5ms/step - loss: 0.3322 - val_loss: 0.4636\n",
            "Epoch 89/100\n",
            "26/26 [==============================] - 0s 6ms/step - loss: 0.3430 - val_loss: 0.3131\n",
            "Epoch 90/100\n",
            "26/26 [==============================] - 0s 4ms/step - loss: 0.3247 - val_loss: 0.3555\n",
            "Epoch 91/100\n",
            "26/26 [==============================] - 0s 3ms/step - loss: 0.3456 - val_loss: 0.4096\n",
            "Epoch 92/100\n",
            "26/26 [==============================] - 0s 7ms/step - loss: 0.3578 - val_loss: 0.2911\n",
            "Epoch 93/100\n",
            "26/26 [==============================] - 0s 4ms/step - loss: 0.3208 - val_loss: 0.3106\n",
            "Epoch 94/100\n",
            "26/26 [==============================] - 0s 5ms/step - loss: 0.3224 - val_loss: 0.4169\n",
            "Epoch 95/100\n",
            "26/26 [==============================] - 0s 5ms/step - loss: 0.3285 - val_loss: 0.2899\n",
            "Epoch 96/100\n",
            "26/26 [==============================] - 0s 3ms/step - loss: 0.3176 - val_loss: 0.2924\n",
            "Epoch 97/100\n",
            "26/26 [==============================] - 0s 5ms/step - loss: 0.3326 - val_loss: 0.3915\n",
            "Epoch 98/100\n",
            "26/26 [==============================] - 0s 4ms/step - loss: 0.3384 - val_loss: 0.3110\n",
            "Epoch 99/100\n",
            "26/26 [==============================] - 0s 5ms/step - loss: 0.3424 - val_loss: 0.3622\n",
            "Epoch 100/100\n",
            "26/26 [==============================] - 0s 5ms/step - loss: 0.3269 - val_loss: 0.3949\n"
          ]
        }
      ],
      "source": [
        "# And now we train the model\n",
        "# Learn to predict sepal's lenght and width from petal's lenght and width\n",
        "HISTORY = MLP.fit(x=x_train, y=y_train, batch_size=4, epochs=100, validation_split=0.2)\n",
        "#la función fit espera las x(alto y ancho del petalo), y (ancho y alto del sepalo), lotes de tamaño=4, epocas=100\n",
        "# toma el 20% para hacer validación\n",
        "# va a tomar 80% para el entrenamiento (forward pass, errores, y para ir ajustando los parametros...)\n",
        "#al terminar la epoca utilizmos el 20% para hacer el forward pass, solo es monitoreo\n",
        "#los de validación solo es para comparar\n",
        "\n",
        "# en la epoca 1 de 100, 26/26 es el número de batches para completar el numero de datos\n",
        "# depende del batch size, se tarda 7milisegundos en cada paso, el mean square error es 2.71\n",
        "#y el validation es 2.8. Pareciera que sí lo está haciendo bien\n",
        "# el mean square error : es la ye esperada y la y pronosticada. Es la suma de los mean square error\n"
      ]
    },
    {
      "cell_type": "code",
      "execution_count": null,
      "metadata": {
        "colab": {
          "base_uri": "https://localhost:8080/",
          "height": 334
        },
        "id": "x7I-BOSFbgX-",
        "outputId": "10ba2055-8f7e-4219-81e4-80ba4f493f40"
      },
      "outputs": [
        {
          "output_type": "display_data",
          "data": {
            "image/png": "[encoded data removed]",
            "text/plain": [
              "<Figure size 864x360 with 1 Axes>"
            ]
          },
          "metadata": {
            "needs_background": "light"
          }
        }
      ],
      "source": [
        "# Plot loss (The object MLP keeps track of the training and validation performance)\n",
        "plt.figure(figsize=(12, 5))\n",
        "plt.plot(MLP.history.history['loss'], label='Training', linewidth=2)\n",
        "plt.plot(MLP.history.history['val_loss'], label='Validation', linewidth=2)\n",
        "plt.legend()\n",
        "plt.xlabel('Epoch')\n",
        "plt.ylabel('Loss')\n",
        "plt.grid(True)\n",
        "plt.show()\n",
        "# muestra como va mejorando el desempeño de  training y validation\n",
        "# si la validation se subiera y no se acercara al training entonces eso sería un overfitting\n",
        "#entre mas se ajusta a los de entrenamiento más se desajustan de los de 20% de validación\n",
        "# si pasa necesitamos más capas u otra funci´n de activación\n",
        "# si no sabe que pedo con los 20% significa que no puede generalizar\n",
        "\n",
        "\n",
        "# del 80% toma 4 y hace todo el proceso y luego los valida y así hasta que se acaba la epoca"
      ]
    },
    {
      "cell_type": "code",
      "execution_count": null,
      "metadata": {
        "colab": {
          "base_uri": "https://localhost:8080/"
        },
        "id": "rtHqcSQg2aQR",
        "outputId": "095e699c-3475-4394-9d5b-4102a0def245"
      },
      "outputs": [
        {
          "output_type": "stream",
          "name": "stdout",
          "text": [
            "Initial weights: (2, 2)\n",
            "[[ 1.5596906   0.58787155]\n",
            " [-1.6727446  -0.6733025 ]]\n",
            "Initial biases (2,)\n",
            "[-0.51907444 -0.4130591 ]\n"
          ]
        }
      ],
      "source": [
        "# Obtain weights and biases of the hidden layer after training\n",
        "w1, b1 = MLP.layers[1].get_weights() #ahora como se vieron los pesos despues del entrenamiento\n",
        "print(\"Initial weights:\", w1.shape)\n",
        "print(w1)\n",
        "print(\"Initial biases\", b1.shape)\n",
        "print(b1)"
      ]
    },
    {
      "cell_type": "code",
      "execution_count": null,
      "metadata": {
        "colab": {
          "base_uri": "https://localhost:8080/"
        },
        "id": "M99b2NpEbWMi",
        "outputId": "963aef41-8bab-4590-8637-8597cd509cf5"
      },
      "outputs": [
        {
          "output_type": "execute_result",
          "data": {
            "text/plain": [
              "0.41150715947151184"
            ]
          },
          "metadata": {},
          "execution_count": 15
        }
      ],
      "source": [
        "# Use the trained model to compute the average test loss\n",
        "MLP.evaluate(x=x_test, y=y_test, verbose=False)\n",
        "#le voy a pasar ese 15% desde el principio\n",
        "#el set test que no se utiliza en en validación ni entrenamiento\n",
        "# en el test tengo .48 sí hay overfitting es casi el doble"
      ]
    },
    {
      "cell_type": "code",
      "execution_count": null,
      "metadata": {
        "colab": {
          "base_uri": "https://localhost:8080/"
        },
        "id": "-vkDhVD3bWMo",
        "outputId": "384f534e-f2ae-4d8e-c3b3-d6804fd40287"
      },
      "outputs": [
        {
          "output_type": "stream",
          "name": "stdout",
          "text": [
            "(23, 2)\n"
          ]
        }
      ],
      "source": [
        "# Now generate the predictions on the test set\n",
        "y_test_hat = MLP.predict(x=x_test)\n",
        "print(y_test_hat.shape)\n",
        "#no evalua es la función cuando quieres clasificar o en regresión para predecir"
      ]
    },
    {
      "cell_type": "code",
      "execution_count": null,
      "metadata": {
        "colab": {
          "base_uri": "https://localhost:8080/",
          "height": 295
        },
        "id": "hh43w3bRbWMs",
        "outputId": "ccb73954-403a-4805-94db-c07829a3e57b"
      },
      "outputs": [
        {
          "output_type": "display_data",
          "data": {
            "image/png": "[encoded data removed]",
            "text/plain": [
              "<Figure size 432x288 with 1 Axes>"
            ]
          },
          "metadata": {
            "needs_background": "light"
          }
        }
      ],
      "source": [
        " # Plot y_test_hat\n",
        "plt.scatter(y_test[l_test==0, 0], y_test[l_test==0, 1], c='b', label='set y')\n",
        "plt.scatter(y_test[l_test==1, 0], y_test[l_test==1, 1], c='r', label='ver y')\n",
        "plt.scatter(y_test[l_test==2, 0], y_test[l_test==2, 1], c='g', label='vir y')\n",
        "#grafico los y test reales y ytest hat\n",
        "plt.scatter(y_test_hat[l_test==0, 0], y_test_hat[l_test==0, 1], c='b', marker='+', label='set y_h')\n",
        "plt.scatter(y_test_hat[l_test==1, 0], y_test_hat[l_test==1, 1], c='r', marker='+', label='ver y_h')\n",
        "plt.scatter(y_test_hat[l_test==2, 0], y_test_hat[l_test==2, 1], c='g', marker='+', label='vir y_h')\n",
        "\n",
        "plt.legend()\n",
        "plt.grid(True)\n",
        "plt.xlabel('sepal length')\n",
        "plt.ylabel('sepal width')\n",
        "plt.title('Test set and its prediction')\n",
        "plt.show()\n",
        "#las verdes las pronostica como rojas (ahí se está equivocando)\n",
        "# el verde le cuesta trabajo"
      ]
    },
    {
      "cell_type": "code",
      "execution_count": null,
      "metadata": {
        "colab": {
          "base_uri": "https://localhost:8080/"
        },
        "id": "hpystfDabWMw",
        "outputId": "b2f3b249-8c9c-49fd-c762-919a9d3f04ba"
      },
      "outputs": [
        {
          "output_type": "stream",
          "name": "stdout",
          "text": [
            "Model: \"model_1\"\n",
            "_________________________________________________________________\n",
            " Layer (type)                Output Shape              Param #   \n",
            "=================================================================\n",
            " input (InputLayer)          [(None, 2)]               0         \n",
            "                                                                 \n",
            " hidden1 (Dense)             (None, 32)                96        \n",
            "                                                                 \n",
            " hidden2 (Dense)             (None, 64)                2112      \n",
            "                                                                 \n",
            " hidden3 (Dense)             (None, 32)                2080      \n",
            "                                                                 \n",
            " output (Dense)              (None, 2)                 66        \n",
            "                                                                 \n",
            "=================================================================\n",
            "Total params: 4,354\n",
            "Trainable params: 4,354\n",
            "Non-trainable params: 0\n",
            "_________________________________________________________________\n"
          ]
        }
      ],
      "source": [
        "# Create a larger MLP\n",
        "i = Input(shape=(2,), name='input') #recibe un vector de longitud 2\n",
        "h = Dense(units=32, activation='relu', name='hidden1')(i) #4 capas intermedias y conecta una con otra\n",
        "h = Dense(units=64, activation='relu', name='hidden2')(h) #por lo general las capas intermedias tienen la misma activación relu\n",
        "h = Dense(units=32, activation='relu', name='hidden3')(h)\n",
        "o = Dense(units=2, activation='linear', name='output')(h)\n",
        "#4 capas con units=32 número de neuronas\n",
        "#activación tipo relu que puede ser sigmoide\n",
        "#activation= linear ahora si tenemos la salida lineal\n",
        "#Elnúmero de capas y el número de unidades de neurónas son hiperparámetros\n",
        "# el primer dense se va a aplicar al objeto i\n",
        "#luego el siguiente dense se va a aplicar al objeto h y se le vuelve a asignar a h\n",
        "#son hs designadas a h\n",
        "MLP = Model(inputs=i, outputs=o) #aquí creamos el modelo\n",
        "MLP.summary()\n",
        "# los parámetros de la última capa son 66,... son los pesos en cada capa\n",
        "# s(w2 *s(w1*x))\n",
        "#teine 96 parámetros el vector w1, 2112 son los paráemtros en w2\n",
        "#el número de perceptrones son el número de unidades anteiror*#de unidades actual + #de unidades actual"
      ]
    },
    {
      "cell_type": "code",
      "execution_count": null,
      "metadata": {
        "id": "x3Gj9q4VbWM0"
      },
      "outputs": [],
      "source": [
        "# Compile it\n",
        "MLP.compile(optimizer='sgd', loss='mse') # queremos optimiar la función de costo"
      ]
    },
    {
      "cell_type": "code",
      "execution_count": null,
      "metadata": {
        "colab": {
          "base_uri": "https://localhost:8080/"
        },
        "id": "5yvl3ggEbWM4",
        "outputId": "977e7e90-1cb3-48f2-804a-b9ffd414186a"
      },
      "outputs": [
        {
          "output_type": "stream",
          "name": "stdout",
          "text": [
            "Epoch 1/100\n",
            "29/29 - 1s - loss: 1.7802 - val_loss: 4.2113 - 1s/epoch - 51ms/step\n",
            "Epoch 2/100\n",
            "29/29 - 0s - loss: 1.2041 - val_loss: 2.2117 - 122ms/epoch - 4ms/step\n",
            "Epoch 3/100\n",
            "29/29 - 0s - loss: 0.7788 - val_loss: 3.1000 - 110ms/epoch - 4ms/step\n",
            "Epoch 4/100\n",
            "29/29 - 0s - loss: 0.6650 - val_loss: 0.3437 - 122ms/epoch - 4ms/step\n",
            "Epoch 5/100\n",
            "29/29 - 0s - loss: 0.5488 - val_loss: 0.3591 - 117ms/epoch - 4ms/step\n",
            "Epoch 6/100\n",
            "29/29 - 0s - loss: 0.5066 - val_loss: 0.2978 - 93ms/epoch - 3ms/step\n",
            "Epoch 7/100\n",
            "29/29 - 0s - loss: 0.5754 - val_loss: 0.2909 - 110ms/epoch - 4ms/step\n",
            "Epoch 8/100\n",
            "29/29 - 0s - loss: 0.5644 - val_loss: 0.4631 - 99ms/epoch - 3ms/step\n",
            "Epoch 9/100\n",
            "29/29 - 0s - loss: 0.5956 - val_loss: 0.2412 - 123ms/epoch - 4ms/step\n",
            "Epoch 10/100\n",
            "29/29 - 0s - loss: 0.6501 - val_loss: 0.2741 - 84ms/epoch - 3ms/step\n",
            "Epoch 11/100\n",
            "29/29 - 0s - loss: 0.3709 - val_loss: 0.2114 - 97ms/epoch - 3ms/step\n",
            "Epoch 12/100\n",
            "29/29 - 0s - loss: 0.3350 - val_loss: 0.8016 - 93ms/epoch - 3ms/step\n",
            "Epoch 13/100\n",
            "29/29 - 0s - loss: 0.3443 - val_loss: 1.0221 - 158ms/epoch - 5ms/step\n",
            "Epoch 14/100\n",
            "29/29 - 0s - loss: 0.3950 - val_loss: 0.2871 - 151ms/epoch - 5ms/step\n",
            "Epoch 15/100\n",
            "29/29 - 0s - loss: 0.3098 - val_loss: 0.1858 - 96ms/epoch - 3ms/step\n",
            "Epoch 16/100\n",
            "29/29 - 0s - loss: 0.3185 - val_loss: 0.2076 - 107ms/epoch - 4ms/step\n",
            "Epoch 17/100\n",
            "29/29 - 0s - loss: 0.3529 - val_loss: 0.4860 - 134ms/epoch - 5ms/step\n",
            "Epoch 18/100\n",
            "29/29 - 0s - loss: 0.3458 - val_loss: 0.2471 - 113ms/epoch - 4ms/step\n",
            "Epoch 19/100\n",
            "29/29 - 0s - loss: 0.3074 - val_loss: 0.3011 - 91ms/epoch - 3ms/step\n",
            "Epoch 20/100\n",
            "29/29 - 0s - loss: 0.2950 - val_loss: 0.2084 - 112ms/epoch - 4ms/step\n",
            "Epoch 21/100\n",
            "29/29 - 0s - loss: 0.3744 - val_loss: 0.5404 - 90ms/epoch - 3ms/step\n",
            "Epoch 22/100\n",
            "29/29 - 0s - loss: 0.2866 - val_loss: 1.2775 - 92ms/epoch - 3ms/step\n",
            "Epoch 23/100\n",
            "29/29 - 0s - loss: 0.3250 - val_loss: 1.0526 - 121ms/epoch - 4ms/step\n",
            "Epoch 24/100\n",
            "29/29 - 0s - loss: 0.2965 - val_loss: 0.2555 - 95ms/epoch - 3ms/step\n",
            "Epoch 25/100\n",
            "29/29 - 0s - loss: 0.2685 - val_loss: 0.3051 - 135ms/epoch - 5ms/step\n",
            "Epoch 26/100\n",
            "29/29 - 0s - loss: 0.2480 - val_loss: 2.1332 - 102ms/epoch - 4ms/step\n",
            "Epoch 27/100\n",
            "29/29 - 0s - loss: 0.4787 - val_loss: 0.1765 - 90ms/epoch - 3ms/step\n",
            "Epoch 28/100\n",
            "29/29 - 0s - loss: 0.2691 - val_loss: 0.2248 - 120ms/epoch - 4ms/step\n",
            "Epoch 29/100\n",
            "29/29 - 0s - loss: 0.2609 - val_loss: 0.5563 - 106ms/epoch - 4ms/step\n",
            "Epoch 30/100\n",
            "29/29 - 0s - loss: 0.3459 - val_loss: 0.1486 - 122ms/epoch - 4ms/step\n",
            "Epoch 31/100\n",
            "29/29 - 0s - loss: 0.4341 - val_loss: 0.1703 - 120ms/epoch - 4ms/step\n",
            "Epoch 32/100\n",
            "29/29 - 0s - loss: 0.2706 - val_loss: 0.1674 - 134ms/epoch - 5ms/step\n",
            "Epoch 33/100\n",
            "29/29 - 0s - loss: 0.2510 - val_loss: 0.2109 - 143ms/epoch - 5ms/step\n",
            "Epoch 34/100\n",
            "29/29 - 0s - loss: 0.2585 - val_loss: 1.2771 - 88ms/epoch - 3ms/step\n",
            "Epoch 35/100\n",
            "29/29 - 0s - loss: 0.3411 - val_loss: 0.3132 - 94ms/epoch - 3ms/step\n",
            "Epoch 36/100\n",
            "29/29 - 0s - loss: 0.2558 - val_loss: 0.7783 - 129ms/epoch - 4ms/step\n",
            "Epoch 37/100\n",
            "29/29 - 0s - loss: 0.2560 - val_loss: 0.3134 - 117ms/epoch - 4ms/step\n",
            "Epoch 38/100\n",
            "29/29 - 0s - loss: 0.2816 - val_loss: 0.2855 - 208ms/epoch - 7ms/step\n",
            "Epoch 39/100\n",
            "29/29 - 0s - loss: 0.2808 - val_loss: 0.2327 - 173ms/epoch - 6ms/step\n",
            "Epoch 40/100\n",
            "29/29 - 0s - loss: 0.2131 - val_loss: 0.1239 - 192ms/epoch - 7ms/step\n",
            "Epoch 41/100\n",
            "29/29 - 0s - loss: 0.2742 - val_loss: 0.1647 - 183ms/epoch - 6ms/step\n",
            "Epoch 42/100\n",
            "29/29 - 0s - loss: 0.2950 - val_loss: 0.3502 - 145ms/epoch - 5ms/step\n",
            "Epoch 43/100\n",
            "29/29 - 0s - loss: 0.3697 - val_loss: 0.1592 - 191ms/epoch - 7ms/step\n",
            "Epoch 44/100\n",
            "29/29 - 0s - loss: 0.2249 - val_loss: 0.2214 - 207ms/epoch - 7ms/step\n",
            "Epoch 45/100\n",
            "29/29 - 0s - loss: 0.2372 - val_loss: 0.1383 - 174ms/epoch - 6ms/step\n",
            "Epoch 46/100\n",
            "29/29 - 0s - loss: 0.2876 - val_loss: 0.1823 - 190ms/epoch - 7ms/step\n",
            "Epoch 47/100\n",
            "29/29 - 0s - loss: 0.2339 - val_loss: 0.2738 - 178ms/epoch - 6ms/step\n",
            "Epoch 48/100\n",
            "29/29 - 0s - loss: 0.2985 - val_loss: 0.2255 - 95ms/epoch - 3ms/step\n",
            "Epoch 49/100\n",
            "29/29 - 0s - loss: 0.2284 - val_loss: 0.1347 - 179ms/epoch - 6ms/step\n",
            "Epoch 50/100\n",
            "29/29 - 0s - loss: 0.2613 - val_loss: 0.1509 - 127ms/epoch - 4ms/step\n",
            "Epoch 51/100\n",
            "29/29 - 0s - loss: 0.2295 - val_loss: 0.1812 - 92ms/epoch - 3ms/step\n",
            "Epoch 52/100\n",
            "29/29 - 0s - loss: 0.2356 - val_loss: 0.2851 - 164ms/epoch - 6ms/step\n",
            "Epoch 53/100\n",
            "29/29 - 0s - loss: 0.2002 - val_loss: 0.7089 - 93ms/epoch - 3ms/step\n",
            "Epoch 54/100\n",
            "29/29 - 0s - loss: 0.2219 - val_loss: 0.3556 - 106ms/epoch - 4ms/step\n",
            "Epoch 55/100\n",
            "29/29 - 0s - loss: 0.3510 - val_loss: 0.2164 - 93ms/epoch - 3ms/step\n",
            "Epoch 56/100\n",
            "29/29 - 0s - loss: 0.2706 - val_loss: 0.1609 - 109ms/epoch - 4ms/step\n",
            "Epoch 57/100\n",
            "29/29 - 0s - loss: 0.2379 - val_loss: 0.8406 - 105ms/epoch - 4ms/step\n",
            "Epoch 58/100\n",
            "29/29 - 0s - loss: 0.2098 - val_loss: 0.2466 - 81ms/epoch - 3ms/step\n",
            "Epoch 59/100\n",
            "29/29 - 0s - loss: 0.2150 - val_loss: 0.2463 - 81ms/epoch - 3ms/step\n",
            "Epoch 60/100\n",
            "29/29 - 0s - loss: 0.2690 - val_loss: 0.2093 - 130ms/epoch - 4ms/step\n",
            "Epoch 61/100\n",
            "29/29 - 0s - loss: 0.2108 - val_loss: 0.1307 - 98ms/epoch - 3ms/step\n",
            "Epoch 62/100\n",
            "29/29 - 0s - loss: 0.2046 - val_loss: 0.1524 - 141ms/epoch - 5ms/step\n",
            "Epoch 63/100\n",
            "29/29 - 0s - loss: 0.2263 - val_loss: 0.2774 - 176ms/epoch - 6ms/step\n",
            "Epoch 64/100\n",
            "29/29 - 0s - loss: 0.2769 - val_loss: 0.1643 - 110ms/epoch - 4ms/step\n",
            "Epoch 65/100\n",
            "29/29 - 0s - loss: 0.2181 - val_loss: 0.2260 - 139ms/epoch - 5ms/step\n",
            "Epoch 66/100\n",
            "29/29 - 0s - loss: 0.2358 - val_loss: 0.1950 - 126ms/epoch - 4ms/step\n",
            "Epoch 67/100\n",
            "29/29 - 0s - loss: 0.2629 - val_loss: 0.3585 - 130ms/epoch - 4ms/step\n",
            "Epoch 68/100\n",
            "29/29 - 0s - loss: 0.1833 - val_loss: 0.1735 - 101ms/epoch - 3ms/step\n",
            "Epoch 69/100\n",
            "29/29 - 0s - loss: 0.2225 - val_loss: 0.1415 - 99ms/epoch - 3ms/step\n",
            "Epoch 70/100\n",
            "29/29 - 0s - loss: 0.1897 - val_loss: 0.1674 - 89ms/epoch - 3ms/step\n",
            "Epoch 71/100\n",
            "29/29 - 0s - loss: 0.2162 - val_loss: 0.5369 - 104ms/epoch - 4ms/step\n",
            "Epoch 72/100\n",
            "29/29 - 0s - loss: 0.2391 - val_loss: 0.1269 - 99ms/epoch - 3ms/step\n",
            "Epoch 73/100\n",
            "29/29 - 0s - loss: 0.2318 - val_loss: 0.1561 - 93ms/epoch - 3ms/step\n",
            "Epoch 74/100\n",
            "29/29 - 0s - loss: 0.2348 - val_loss: 0.6979 - 111ms/epoch - 4ms/step\n",
            "Epoch 75/100\n",
            "29/29 - 0s - loss: 0.3167 - val_loss: 0.3132 - 95ms/epoch - 3ms/step\n",
            "Epoch 76/100\n",
            "29/29 - 0s - loss: 0.2452 - val_loss: 0.1417 - 69ms/epoch - 2ms/step\n",
            "Epoch 77/100\n",
            "29/29 - 0s - loss: 0.2070 - val_loss: 0.1594 - 52ms/epoch - 2ms/step\n",
            "Epoch 78/100\n",
            "29/29 - 0s - loss: 0.2165 - val_loss: 0.4623 - 62ms/epoch - 2ms/step\n",
            "Epoch 79/100\n",
            "29/29 - 0s - loss: 0.2053 - val_loss: 0.1381 - 69ms/epoch - 2ms/step\n",
            "Epoch 80/100\n",
            "29/29 - 0s - loss: 0.2332 - val_loss: 0.2670 - 74ms/epoch - 3ms/step\n",
            "Epoch 81/100\n",
            "29/29 - 0s - loss: 0.2293 - val_loss: 0.1489 - 70ms/epoch - 2ms/step\n",
            "Epoch 82/100\n",
            "29/29 - 0s - loss: 0.2277 - val_loss: 0.1338 - 59ms/epoch - 2ms/step\n",
            "Epoch 83/100\n",
            "29/29 - 0s - loss: 0.2019 - val_loss: 0.2480 - 56ms/epoch - 2ms/step\n",
            "Epoch 84/100\n",
            "29/29 - 0s - loss: 0.1923 - val_loss: 0.1542 - 68ms/epoch - 2ms/step\n",
            "Epoch 85/100\n",
            "29/29 - 0s - loss: 0.2047 - val_loss: 0.4345 - 55ms/epoch - 2ms/step\n",
            "Epoch 86/100\n",
            "29/29 - 0s - loss: 0.2218 - val_loss: 0.1136 - 56ms/epoch - 2ms/step\n",
            "Epoch 87/100\n",
            "29/29 - 0s - loss: 0.2173 - val_loss: 0.4191 - 55ms/epoch - 2ms/step\n",
            "Epoch 88/100\n",
            "29/29 - 0s - loss: 0.2133 - val_loss: 0.1600 - 68ms/epoch - 2ms/step\n",
            "Epoch 89/100\n",
            "29/29 - 0s - loss: 0.2336 - val_loss: 0.2059 - 72ms/epoch - 2ms/step\n",
            "Epoch 90/100\n",
            "29/29 - 0s - loss: 0.2129 - val_loss: 0.3929 - 70ms/epoch - 2ms/step\n",
            "Epoch 91/100\n",
            "29/29 - 0s - loss: 0.2258 - val_loss: 0.1671 - 63ms/epoch - 2ms/step\n",
            "Epoch 92/100\n",
            "29/29 - 0s - loss: 0.2694 - val_loss: 0.5776 - 54ms/epoch - 2ms/step\n",
            "Epoch 93/100\n",
            "29/29 - 0s - loss: 0.1828 - val_loss: 0.3534 - 71ms/epoch - 2ms/step\n",
            "Epoch 94/100\n",
            "29/29 - 0s - loss: 0.2011 - val_loss: 0.1528 - 54ms/epoch - 2ms/step\n",
            "Epoch 95/100\n",
            "29/29 - 0s - loss: 0.2034 - val_loss: 0.1465 - 51ms/epoch - 2ms/step\n",
            "Epoch 96/100\n",
            "29/29 - 0s - loss: 0.2284 - val_loss: 0.1660 - 68ms/epoch - 2ms/step\n",
            "Epoch 97/100\n",
            "29/29 - 0s - loss: 0.2113 - val_loss: 0.0946 - 53ms/epoch - 2ms/step\n",
            "Epoch 98/100\n",
            "29/29 - 0s - loss: 0.2309 - val_loss: 0.1260 - 53ms/epoch - 2ms/step\n",
            "Epoch 99/100\n",
            "29/29 - 0s - loss: 0.2319 - val_loss: 0.1440 - 56ms/epoch - 2ms/step\n",
            "Epoch 100/100\n",
            "29/29 - 0s - loss: 0.2433 - val_loss: 0.2180 - 53ms/epoch - 2ms/step\n"
          ]
        },
        {
          "output_type": "execute_result",
          "data": {
            "text/plain": [
              "<keras.callbacks.History at 0x7f5b36c51cd0>"
            ]
          },
          "metadata": {},
          "execution_count": 20
        }
      ],
      "source": [
        "# Train it\n",
        "MLP.fit(x=x_train, y=y_train, batch_size=4, epochs=100, verbose=2, validation_split=0.1)\n",
        "#xtrain y ytrain los datos de entrenamiento\n",
        "#aparte 10% para validación,... le sobran 120 y esos 120 los va a dividir en 4 lotes... por lo tanto hay 26 en cada lote, eso lo hace 100 épocas\n",
        "#por cada época hace 29 uptades\n",
        "#para cada época van a ser nuevos batches\n",
        "#29 *4354 son el número de updates\n"
      ]
    },
    {
      "cell_type": "code",
      "execution_count": null,
      "metadata": {
        "colab": {
          "base_uri": "https://localhost:8080/",
          "height": 334
        },
        "id": "ke48v-Am2Jsz",
        "outputId": "4410df9e-dfd7-4f2c-d872-7554bc82fe8c"
      },
      "outputs": [
        {
          "output_type": "display_data",
          "data": {
            "image/png": "[encoded data removed]",
            "text/plain": [
              "<Figure size 864x360 with 1 Axes>"
            ]
          },
          "metadata": {
            "needs_background": "light"
          }
        }
      ],
      "source": [
        "# Plot loss (The object MLP keeps track of the training and validation performance)\n",
        "plt.figure(figsize=(12, 5))\n",
        "plt.plot(MLP.history.history['loss'], label='Training', linewidth=2)\n",
        "plt.plot(MLP.history.history['val_loss'], label='Validation', linewidth=2)\n",
        "plt.legend()\n",
        "plt.xlabel('Epoch')\n",
        "plt.ylabel('Loss')\n",
        "plt.grid(True)\n",
        "plt.show()\n",
        "#es un modelo menos estable"
      ]
    },
    {
      "cell_type": "code",
      "execution_count": null,
      "metadata": {
        "colab": {
          "base_uri": "https://localhost:8080/"
        },
        "id": "pE6qPetP2ywl",
        "outputId": "c2631969-9902-4bd4-dabb-547ff47865d7"
      },
      "outputs": [
        {
          "output_type": "stream",
          "name": "stdout",
          "text": [
            "Weights:  (2, 32)\tBiases:   (32,)\n",
            "Weights:  (32, 64)\tBiases:   (64,)\n",
            "Weights:  (64, 32)\tBiases:   (32,)\n",
            "Weights:  (32, 2)\tBiases:   (2,)\n"
          ]
        }
      ],
      "source": [
        "# Obtain weights and biases of the hidden layer\n",
        "for layer in MLP.layers[1:]:\n",
        "  w, b = layer.get_weights()\n",
        "  print(\"Weights: \", w.shape, end='\\t') #print(w)\n",
        "  print(\"Biases:  \", b.shape) #print(b)"
      ]
    },
    {
      "cell_type": "code",
      "execution_count": null,
      "metadata": {
        "colab": {
          "base_uri": "https://localhost:8080/"
        },
        "id": "PcSe0ybzbWM7",
        "outputId": "ae45bc7e-aac3-434c-9462-f475d38dda5b"
      },
      "outputs": [
        {
          "output_type": "execute_result",
          "data": {
            "text/plain": [
              "0.21793922781944275"
            ]
          },
          "metadata": {},
          "execution_count": 23
        }
      ],
      "source": [
        "# Use the trained model to compute the average test loss\n",
        "MLP.evaluate(x=x_test, y=y_test, verbose=False)"
      ]
    },
    {
      "cell_type": "code",
      "execution_count": null,
      "metadata": {
        "colab": {
          "base_uri": "https://localhost:8080/"
        },
        "id": "WgIBxyqobWNA",
        "outputId": "2f83cef5-6fe6-4a44-804e-a1faee9fb434"
      },
      "outputs": [
        {
          "output_type": "stream",
          "name": "stdout",
          "text": [
            "(23, 2)\n"
          ]
        }
      ],
      "source": [
        "# Now generate the predictions on the test set\n",
        "y_test_hat = MLP.predict(x=x_test)\n",
        "print(y_test_hat.shape)"
      ]
    },
    {
      "cell_type": "code",
      "execution_count": null,
      "metadata": {
        "colab": {
          "base_uri": "https://localhost:8080/",
          "height": 295
        },
        "id": "fgU_z-yiRus-",
        "outputId": "6a0c9bef-dc90-4d82-8331-6103ca1be8cf"
      },
      "outputs": [
        {
          "output_type": "display_data",
          "data": {
            "image/png": "[encoded data removed]",
            "text/plain": [
              "<Figure size 432x288 with 1 Axes>"
            ]
          },
          "metadata": {
            "needs_background": "light"
          }
        }
      ],
      "source": [
        "# Plot y_test_hat\n",
        "plt.scatter(y_test[l_test==0, 0], y_test[l_test==0, 1], c='b', label='set y')\n",
        "plt.scatter(y_test[l_test==1, 0], y_test[l_test==1, 1], c='r', label='ver y')\n",
        "plt.scatter(y_test[l_test==2, 0], y_test[l_test==2, 1], c='g', label='vir y')\n",
        "\n",
        "plt.scatter(y_test_hat[l_test==0, 0], y_test_hat[l_test==0, 1], c='b', marker='+', label='set y_h')\n",
        "plt.scatter(y_test_hat[l_test==1, 0], y_test_hat[l_test==1, 1], c='r', marker='+', label='ver y_h')\n",
        "plt.scatter(y_test_hat[l_test==2, 0], y_test_hat[l_test==2, 1], c='g', marker='+', label='vir y_h')\n",
        "\n",
        "plt.legend()\n",
        "plt.grid(True)\n",
        "plt.xlabel('sepal length')\n",
        "plt.ylabel('sepal width')\n",
        "plt.title('Test set and its prediction')\n",
        "plt.show()\n",
        "#yyyy predije mejor"
      ]
    },
    {
      "cell_type": "code",
      "execution_count": null,
      "metadata": {
        "id": "ostTTvo_7A6q"
      },
      "outputs": [],
      "source": [
        "# Auxiliar function to create an MLP\n",
        "def create_MLP(n_units=[2, 1], activations=None, last_activation=None):\n",
        "  h = i = Input(shape=(n_units[0]))\n",
        "  for units in n_units[1:-1]:\n",
        "    h = Dense(units=units, activation=activations)(h)\n",
        "  o = Dense(units=n_units[-1], activation=last_activation)(h)\n",
        "  return Model(inputs=i, outputs=o)"
      ]
    },
    {
      "cell_type": "code",
      "execution_count": null,
      "metadata": {
        "colab": {
          "base_uri": "https://localhost:8080/"
        },
        "id": "zN_Vj0e2568J",
        "outputId": "0140d940-bb46-431b-df62-7cbcfb512b88"
      },
      "outputs": [
        {
          "output_type": "stream",
          "name": "stdout",
          "text": [
            "Run   1 -- Train loss: 8.9401; Test loss: 8.6449\n",
            "Run   2 -- Train loss: 1.7538; Test loss: 1.7353\n",
            "Run   3 -- Train loss: 8.9422; Test loss: 8.6465\n",
            "Run   4 -- Train loss: 2.5046; Test loss: 2.4356\n",
            "Run   5 -- Train loss: 1.7251; Test loss: 1.7021\n",
            "Run   6 -- Train loss: 8.9404; Test loss: 8.6454\n",
            "Run   7 -- Train loss: 9.6695; Test loss: 9.3257\n",
            "Run   8 -- Train loss: 1.7664; Test loss: 1.7502\n",
            "Run   9 -- Train loss: 8.9383; Test loss: 8.6428\n",
            "Run  10 -- Train loss: 2.3453; Test loss: 2.2768\n",
            "Average --  train loss: 5.5526 +- 3.5475;  test loss: 5.3805 +- 3.4131\n"
          ]
        }
      ],
      "source": [
        "# Corre el experimento 100 veces y registra el desempeño promedio y el tiempo de ejecución\n",
        "loss = np.zeros((10, 2))\n",
        "for ind in range(10):\n",
        "  MLP = create_MLP([2, 32, 16, 8, 2], activations='sigmoid', last_activation='relu')\n",
        "  MLP.compile(optimizer='sgd', loss='mse')\n",
        "  MLP.fit(x=x_train, y=y_train, batch_size=8, epochs=100, verbose=0, validation_split=0.2)\n",
        "  loss[ind, 0] = MLP.evaluate(x=x_train, y=y_train, verbose=False)\n",
        "  loss[ind, 1] = MLP.evaluate(x=x_test, y=y_test, verbose=False)\n",
        "  print(f\"Run {ind+1:3d} -- \", end='')\n",
        "  print(f\"Train loss: {loss[ind, 0]:6.4f}\", end='; ')\n",
        "  print(f\"Test loss: {loss[ind, 1]:6.4f}\")\n",
        "\n",
        "print(\"Average -- \", end='')\n",
        "print(f\" train loss: {loss[:, 0].mean():6.4f} +- {loss[:, 0].std():6.4f}\", end='; ')\n",
        "print(f\" test loss: {loss[:, 1].mean():6.4f} +- {loss[:, 1].std():6.4f}\")"
      ]
    },
    {
      "cell_type": "markdown",
      "metadata": {
        "id": "unYsD47-sCK9"
      },
      "source": [
        "# Challenge"
      ]
    },
    {
      "cell_type": "code",
      "execution_count": null,
      "metadata": {
        "id": "9tjN--xD7TsX"
      },
      "outputs": [],
      "source": [
        "# Crea un modelo que tome las 4 variables de X como entrada, y pueda pronosticar\n",
        "# las etiquetas para las clases versicolor y virginica. Puedes hacerlo tan\n",
        "# profundo como sea necesario, y con tantas neuronas como requieras. Recuerda\n",
        "# dividir los datos en set de entrenamiento, validación, y prueba, y reportar el\n",
        "# desempeño para los tres sets."
      ]
    },
    {
      "cell_type": "code",
      "execution_count": null,
      "metadata": {
        "id": "7ez2DM3YsfuT"
      },
      "outputs": [],
      "source": []
    }
  ],
  "metadata": {
    "colab": {
      "provenance": [],
      "include_colab_link": true
    },
    "kernelspec": {
      "display_name": "Python 3",
      "language": "python",
      "name": "python3"
    },
    "language_info": {
      "codemirror_mode": {
        "name": "ipython",
        "version": 3
      },
      "file_extension": ".py",
      "mimetype": "text/x-python",
      "name": "python",
      "nbconvert_exporter": "python",
      "pygments_lexer": "ipython3",
      "version": "3.7.6"
    }
  },
  "nbformat": 4,
  "nbformat_minor": 0
}